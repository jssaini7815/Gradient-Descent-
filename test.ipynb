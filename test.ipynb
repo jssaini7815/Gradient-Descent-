{
  "nbformat": 4,
  "nbformat_minor": 0,
  "metadata": {
    "colab": {
      "name": "test.ipynb",
      "provenance": [],
      "include_colab_link": true
    },
    "kernelspec": {
      "display_name": "Python 3",
      "language": "python",
      "name": "python3"
    },
    "language_info": {
      "codemirror_mode": {
        "name": "ipython",
        "version": 3
      },
      "file_extension": ".py",
      "mimetype": "text/x-python",
      "name": "python",
      "nbconvert_exporter": "python",
      "pygments_lexer": "ipython3",
      "version": "3.8.5"
    }
  },
  "cells": [
    {
      "cell_type": "markdown",
      "metadata": {
        "id": "view-in-github",
        "colab_type": "text"
      },
      "source": [
        "<a href=\"https://colab.research.google.com/github/jssaini7815/Gradient-Descent-/blob/main/test.ipynb\" target=\"_parent\"><img src=\"https://colab.research.google.com/assets/colab-badge.svg\" alt=\"Open In Colab\"/></a>"
      ]
    },
    {
      "cell_type": "markdown",
      "metadata": {
        "id": "R1bGIZjEFVpI"
      },
      "source": [
        "#  Numerical Optimization for Logistic Regression.\n",
        "\n"
      ]
    },
    {
      "cell_type": "markdown",
      "metadata": {
        "id": "W3FuKj-SFfj7"
      },
      "source": [
        "Follow the Machine Learing pipeline to complete the test."
      ]
    },
    {
      "cell_type": "markdown",
      "metadata": {
        "id": "mO3hVFBpFVpX"
      },
      "source": [
        "# 1. Data processing\n",
        "\n",
        "- Download the Diabete dataset from https://www.csie.ntu.edu.tw/~cjlin/libsvmtools/datasets/binary/diabetes\n",
        "- Load the data using sklearn.\n",
        "- Preprocess the data."
      ]
    },
    {
      "cell_type": "markdown",
      "metadata": {
        "id": "SIFW0Qb2FVpX"
      },
      "source": [
        "## 1.1. Load the data"
      ]
    },
    {
      "cell_type": "code",
      "metadata": {
        "id": "NUrgNOYhFVpY"
      },
      "source": [
        "from sklearn import datasets\n",
        "import numpy\n",
        "\n",
        "x_sparse, y = datasets.load_svmlight_file('diabetes')\n",
        "x = x_sparse.todense()\n",
        "\n",
        "print('Shape of x: ' + str(x.shape))\n",
        "print('Shape of y: ' + str(y.shape))"
      ],
      "execution_count": null,
      "outputs": []
    },
    {
      "cell_type": "markdown",
      "metadata": {
        "id": "fGVg3EzuFVpZ"
      },
      "source": [
        "## 1.2. Partition to training and test sets"
      ]
    },
    {
      "cell_type": "code",
      "metadata": {
        "id": "KgkI23RPFVpZ",
        "outputId": "ec2b62c4-2c8a-49d5-a1e2-89b9b66e4417"
      },
      "source": [
        "# partition the data to training and test sets\n",
        "n = x.shape[0]\n",
        "n_train = 640\n",
        "n_test = n - n_train\n",
        "\n",
        "rand_indices = numpy.random.permutation(n)\n",
        "train_indices = rand_indices[0:n_train]\n",
        "test_indices = rand_indices[n_train:n]\n",
        "\n",
        "x_train = x[train_indices, :]\n",
        "x_test = x[test_indices, :]\n",
        "y_train = y[train_indices].reshape(n_train, 1)\n",
        "y_test = y[test_indices].reshape(n_test, 1)\n",
        "\n",
        "print('Shape of x_train: ' + str(x_train.shape))\n",
        "print('Shape of x_test: ' + str(x_test.shape))\n",
        "print('Shape of y_train: ' + str(y_train.shape))\n",
        "print('Shape of y_test: ' + str(y_test.shape))"
      ],
      "execution_count": null,
      "outputs": [
        {
          "output_type": "stream",
          "text": [
            "Shape of x_train: (640, 8)\n",
            "Shape of x_test: (128, 8)\n",
            "Shape of y_train: (640, 1)\n",
            "Shape of y_test: (128, 1)\n"
          ],
          "name": "stdout"
        }
      ]
    },
    {
      "cell_type": "markdown",
      "metadata": {
        "id": "-tQkRbHpFVpZ"
      },
      "source": [
        "## 1.3. Feature scaling"
      ]
    },
    {
      "cell_type": "markdown",
      "metadata": {
        "id": "uEeXs_kGFVpa"
      },
      "source": [
        "Use the standardization to transform both training and test features"
      ]
    },
    {
      "cell_type": "code",
      "metadata": {
        "id": "FSF_rac1FVpa",
        "outputId": "627cee7b-ae7f-4283-86f3-0645ecab5a06"
      },
      "source": [
        "# Standardization\n",
        "import numpy\n",
        "\n",
        "# calculate mu and sig using the training set\n",
        "d = x_train.shape[1]\n",
        "mu = numpy.mean(x_train, axis=0).reshape(1, d)\n",
        "sig = numpy.std(x_train, axis=0).reshape(1, d)\n",
        "\n",
        "# transform the training features\n",
        "x_train = (x_train - mu) / (sig + 1E-6)\n",
        "\n",
        "# transform the test features\n",
        "x_test = (x_test - mu) / (sig + 1E-6)\n",
        "\n",
        "print('test mean = ')\n",
        "print(numpy.mean(x_test, axis=0))\n",
        "\n",
        "print('test std = ')\n",
        "print(numpy.std(x_test, axis=0))"
      ],
      "execution_count": null,
      "outputs": [
        {
          "output_type": "stream",
          "text": [
            "test mean = \n",
            "[[ 0.05334084  0.08088802 -0.02770141 -0.10906498 -0.02783957  0.10277847\n",
            "   0.02440334  0.02003912]]\n",
            "test std = \n",
            "[[1.09871194 0.91199817 1.35916329 1.05256002 0.95829529 0.96946344\n",
            "  0.97919333 0.98894056]]\n"
          ],
          "name": "stdout"
        }
      ]
    },
    {
      "cell_type": "markdown",
      "metadata": {
        "id": "GycUub9wFVpd"
      },
      "source": [
        "## 1.4. Add a dimension of all ones"
      ]
    },
    {
      "cell_type": "code",
      "metadata": {
        "id": "dLV1-hnAFVpd",
        "outputId": "4aaaf0e1-bb87-47eb-b43c-b6a4f1fc5689"
      },
      "source": [
        "n_train, d = x_train.shape\n",
        "x_train = numpy.concatenate((x_train, numpy.ones((n_train, 1))), axis=1)\n",
        "\n",
        "n_test, d = x_test.shape\n",
        "x_test = numpy.concatenate((x_test, numpy.ones((n_test, 1))), axis=1)\n",
        "\n",
        "print('Shape of x_train: ' + str(x_train.shape))\n",
        "print('Shape of x_test: ' + str(x_test.shape))"
      ],
      "execution_count": null,
      "outputs": [
        {
          "output_type": "stream",
          "text": [
            "Shape of x_train: (640, 9)\n",
            "Shape of x_test: (128, 9)\n"
          ],
          "name": "stdout"
        }
      ]
    },
    {
      "cell_type": "markdown",
      "metadata": {
        "id": "kLXBNrc4FVpe"
      },
      "source": [
        "# 2. Logistic regression model\n",
        "\n",
        "The objective function is $Q (w; X, y) = \\frac{1}{n} \\sum_{i=1}^n \\log \\Big( 1 + \\exp \\big( - y_i x_i^T w \\big) \\Big) + \\frac{\\lambda}{2} \\| w \\|_2^2 $."
      ]
    },
    {
      "cell_type": "code",
      "metadata": {
        "id": "U2cfUp2QFVpe"
      },
      "source": [
        "# Calculate the objective function value\n",
        "# Inputs:\n",
        "#     w: d-by-1 matrix\n",
        "#     x: n-by-d matrix\n",
        "#     y: n-by-1 matrix\n",
        "#     lam: scalar, the regularization parameter\n",
        "# Return:\n",
        "#     objective function value (scalar)\n",
        "def objective(w, x, y, lam):\n",
        "    n, d = x.shape\n",
        "    yx = numpy.multiply(y, x) # n-by-d matrix\n",
        "    yxw = numpy.dot(yx, w) # n-by-1 matrix\n",
        "    vec1 = numpy.exp(-yxw) # n-by-1 matrix\n",
        "    vec2 = numpy.log(1 + vec1) # n-by-1 matrix\n",
        "    loss = numpy.mean(vec2) # scalar\n",
        "    reg = lam / 2 * numpy.sum(w * w) # scalar\n",
        "    return loss + reg\n",
        "    "
      ],
      "execution_count": null,
      "outputs": []
    },
    {
      "cell_type": "code",
      "metadata": {
        "id": "3gYX9cMpFVph",
        "outputId": "cdb8fbb4-33c3-4337-84d8-4d9a3c578836"
      },
      "source": [
        "# initialize w\n",
        "d = x_train.shape[1]\n",
        "w = numpy.zeros((d, 1))\n",
        "\n",
        "# evaluate the objective function value at w\n",
        "lam = 1E-6\n",
        "objval0 = objective(w, x_train, y_train, lam)\n",
        "print('Initial objective function value = ' + str(objval0))"
      ],
      "execution_count": null,
      "outputs": [
        {
          "output_type": "stream",
          "text": [
            "Initial objective function value = 0.6931471805599453\n"
          ],
          "name": "stdout"
        }
      ]
    },
    {
      "cell_type": "markdown",
      "metadata": {
        "id": "_PYHvOUBFVpi"
      },
      "source": [
        "# 3. Numerical optimization"
      ]
    },
    {
      "cell_type": "markdown",
      "metadata": {
        "id": "ExM7N-IbFVpi"
      },
      "source": [
        "## 3.1. Gradient descent\n"
      ]
    },
    {
      "cell_type": "markdown",
      "metadata": {
        "id": "_W51YGPqFVpi"
      },
      "source": [
        "The gradient at $w$ is $g = - \\frac{1}{n} \\sum_{i=1}^n \\frac{y_i x_i }{1 + \\exp ( y_i x_i^T w)} + \\lambda w$"
      ]
    },
    {
      "cell_type": "code",
      "metadata": {
        "id": "-V5JsY3GFVpj"
      },
      "source": [
        "# Calculate the gradient\n",
        "# Inputs:\n",
        "#     w: d-by-1 matrix\n",
        "#     x: n-by-d matrix\n",
        "#     y: n-by-1 matrix\n",
        "#     lam: scalar, the regularization parameter\n",
        "# Return:\n",
        "#     g: g: d-by-1 matrix, full gradient\n",
        "def gradient(w, x, y, lam):\n",
        "    n, d = x.shape\n",
        "    yx = numpy.multiply(y, x) # n-by-d matrix\n",
        "    yxw = numpy.dot(yx, w) # n-by-1 matrix\n",
        "    vec1 = numpy.exp(yxw) # n-by-1 matrix\n",
        "    vec2 = numpy.divide(yx, 1+vec1) # n-by-d matrix\n",
        "    vec3 = -numpy.mean(vec2, axis=0).reshape(d, 1) # d-by-1 matrix\n",
        "    g = vec3 + lam * w\n",
        "    return g"
      ],
      "execution_count": null,
      "outputs": []
    },
    {
      "cell_type": "code",
      "metadata": {
        "id": "XN0JosdjFVpk"
      },
      "source": [
        "# Gradient descent for solving logistic regression\n",
        "# Inputs:\n",
        "#     x: n-by-d matrix\n",
        "#     y: n-by-1 matrix\n",
        "#     lam: scalar, the regularization parameter\n",
        "#     stepsize: scalar\n",
        "#     max_iter: integer, the maximal iterations\n",
        "#     w: d-by-1 matrix, initialization of w\n",
        "# Return:\n",
        "#     w: d-by-1 matrix, the solution\n",
        "#     objvals: a record of each iteration's objective value\n",
        "def grad_descent(x, y, lam, stepsize, max_iter=100, w=None):\n",
        "    n, d = x.shape\n",
        "    objvals = numpy.zeros(max_iter) # store the objective values\n",
        "    if w is None:\n",
        "        w = numpy.zeros((d, 1)) # zero initialization\n",
        "    \n",
        "    for t in range(max_iter):\n",
        "        objval = objective(w, x, y, lam)\n",
        "        objvals[t] = objval\n",
        "        print('Objective value at t=' + str(t) + ' is ' + str(objval))\n",
        "        g = gradient(w, x, y, lam)\n",
        "        w -= stepsize * g\n",
        "    \n",
        "    return w, objvals"
      ],
      "execution_count": null,
      "outputs": []
    },
    {
      "cell_type": "markdown",
      "metadata": {
        "id": "2oY3RF8TFVpl"
      },
      "source": [
        "Run gradient descent."
      ]
    },
    {
      "cell_type": "code",
      "metadata": {
        "id": "FkYBQV78FVpl",
        "outputId": "a10d2550-468f-483f-f0dc-b35acf363d74"
      },
      "source": [
        "lam = 1E-6\n",
        "stepsize = 1.0\n",
        "w, objvals_gd = grad_descent(x_train, y_train, lam, stepsize)"
      ],
      "execution_count": null,
      "outputs": [
        {
          "output_type": "stream",
          "text": [
            "Objective value at t=0 is 0.6931471805599453\n",
            "Objective value at t=1 is 0.5953201579890982\n",
            "Objective value at t=2 is 0.5532679270859522\n",
            "Objective value at t=3 is 0.530238844967651\n",
            "Objective value at t=4 is 0.5157857926649199\n",
            "Objective value at t=5 is 0.5059859957395125\n",
            "Objective value at t=6 is 0.49901052223591175\n",
            "Objective value at t=7 is 0.49387662076532207\n",
            "Objective value at t=8 is 0.49000361573059736\n",
            "Objective value at t=9 is 0.48702507491985836\n",
            "Objective value at t=10 is 0.48469851310294204\n",
            "Objective value at t=11 is 0.4828576051691597\n",
            "Objective value at t=12 is 0.4813849940315961\n",
            "Objective value at t=13 is 0.4801959381620227\n",
            "Objective value at t=14 is 0.47922804649859563\n",
            "Objective value at t=15 is 0.47843461056314346\n",
            "Objective value at t=16 is 0.47778015016031833\n",
            "Objective value at t=17 is 0.47723736673524686\n",
            "Objective value at t=18 is 0.4767850166595231\n",
            "Objective value at t=19 is 0.4764063998351375\n",
            "Objective value at t=20 is 0.47608826827248996\n",
            "Objective value at t=21 is 0.4758200264942242\n",
            "Objective value at t=22 is 0.47559313801068015\n",
            "Objective value at t=23 is 0.47540067945711717\n",
            "Objective value at t=24 is 0.47523700196644947\n",
            "Objective value at t=25 is 0.4750974713860176\n",
            "Objective value at t=26 is 0.47497826712876373\n",
            "Objective value at t=27 is 0.4748762250926291\n",
            "Objective value at t=28 is 0.4747887140269854\n",
            "Objective value at t=29 is 0.47471353751715867\n",
            "Objective value at t=30 is 0.4746488557575664\n",
            "Objective value at t=31 is 0.4745931227314694\n",
            "Objective value at t=32 is 0.47454503547402593\n",
            "Objective value at t=33 is 0.4745034928771767\n",
            "Objective value at t=34 is 0.4744675620775608\n",
            "Objective value at t=35 is 0.474436450906648\n",
            "Objective value at t=36 is 0.4744094852141808\n",
            "Objective value at t=37 is 0.47438609012947697\n",
            "Objective value at t=38 is 0.4743657745200907\n",
            "Objective value at t=39 is 0.47434811805831156\n",
            "Objective value at t=40 is 0.4743327604236596\n",
            "Objective value at t=41 is 0.4743193922618228\n",
            "Objective value at t=42 is 0.47430774759327365\n",
            "Objective value at t=43 is 0.47429759742253513\n",
            "Objective value at t=44 is 0.4742887443450746\n",
            "Objective value at t=45 is 0.474281017985677\n",
            "Objective value at t=46 is 0.47427427113180604\n",
            "Objective value at t=47 is 0.47426837644943626\n",
            "Objective value at t=48 is 0.47426322368830465\n",
            "Objective value at t=49 is 0.4742587172993749\n",
            "Objective value at t=50 is 0.4742547744002754\n",
            "Objective value at t=51 is 0.47425132303511375\n",
            "Objective value at t=52 is 0.47424830068382007\n",
            "Objective value at t=53 is 0.47424565298341986\n",
            "Objective value at t=54 is 0.47424333262961393\n",
            "Objective value at t=55 is 0.47424129843203844\n",
            "Objective value at t=56 is 0.47423951450070867\n",
            "Objective value at t=57 is 0.4742379495446281\n",
            "Objective value at t=58 is 0.4742365762664319\n",
            "Objective value at t=59 is 0.47423537083937484\n",
            "Objective value at t=60 is 0.4742343124550139\n",
            "Objective value at t=61 is 0.47423338293166306\n",
            "Objective value at t=62 is 0.47423256637514993\n",
            "Objective value at t=63 is 0.4742318488846397\n",
            "Objective value at t=64 is 0.4742312182973301\n",
            "Objective value at t=65 is 0.47423066396671043\n",
            "Objective value at t=66 is 0.4742301765698312\n",
            "Objective value at t=67 is 0.4742297479396696\n",
            "Objective value at t=68 is 0.47422937091922557\n",
            "Objective value at t=69 is 0.474229039234452\n",
            "Objective value at t=70 is 0.47422874738351656\n",
            "Objective value at t=71 is 0.4742284905402452\n",
            "Objective value at t=72 is 0.47422826446987865\n",
            "Objective value at t=73 is 0.4742280654555367\n",
            "Objective value at t=74 is 0.47422789023399514\n",
            "Objective value at t=75 is 0.47422773593956924\n",
            "Objective value at t=76 is 0.47422760005505665\n",
            "Objective value at t=77 is 0.47422748036883505\n",
            "Objective value at t=78 is 0.47422737493732314\n",
            "Objective value at t=79 is 0.47422728205212494\n",
            "Objective value at t=80 is 0.47422720021125897\n",
            "Objective value at t=81 is 0.4742271280939563\n",
            "Objective value at t=82 is 0.4742270645385774\n",
            "Objective value at t=83 is 0.4742270085232546\n",
            "Objective value at t=84 is 0.47422695914891844\n",
            "Objective value at t=85 is 0.4742269156244101\n",
            "Objective value at t=86 is 0.4742268772534185\n",
            "Objective value at t=87 is 0.4742268434230173\n",
            "Objective value at t=88 is 0.47422681359360014\n",
            "Objective value at t=89 is 0.47422678729004525\n",
            "Objective value at t=90 is 0.47422676409395254\n",
            "Objective value at t=91 is 0.47422674363682604\n",
            "Objective value at t=92 is 0.47422672559408185\n",
            "Objective value at t=93 is 0.47422670967978187\n",
            "Objective value at t=94 is 0.47422669564200476\n",
            "Objective value at t=95 is 0.47422668325877554\n",
            "Objective value at t=96 is 0.47422667233448523\n",
            "Objective value at t=97 is 0.4742266626967433\n",
            "Objective value at t=98 is 0.47422665419360643\n",
            "Objective value at t=99 is 0.47422664669114173\n"
          ],
          "name": "stdout"
        }
      ]
    },
    {
      "cell_type": "markdown",
      "metadata": {
        "id": "NytOz2pGFVpm"
      },
      "source": [
        "## 3.2. Stochastic gradient descent (SGD)\n",
        "\n",
        "Define $Q_i (w) = \\log \\Big( 1 + \\exp \\big( - y_i x_i^T w \\big) \\Big) + \\frac{\\lambda}{2} \\| w \\|_2^2 $.\n",
        "\n",
        "The stochastic gradient at $w$ is $g_i = \\frac{\\partial Q_i }{ \\partial w} = -\\frac{y_i x_i }{1 + \\exp ( y_i x_i^T w)} + \\lambda w$."
      ]
    },
    {
      "cell_type": "code",
      "metadata": {
        "id": "8D-aMWOWFVpm"
      },
      "source": [
        "# Calculate the objective Q_i and the gradient of Q_i\n",
        "# Inputs:\n",
        "#     w: d-by-1 matrix\n",
        "#     xi: 1-by-d matrix\n",
        "#     yi: scalar\n",
        "#     lam: scalar, the regularization parameter\n",
        "# Return:\n",
        "#     obj: scalar, the objective Q_i\n",
        "#     g: d-by-1 matrix, gradient of Q_i\n",
        "def stochastic_objective_gradient(w, xi, yi, lam):\n",
        "    d = xi.shape[0]\n",
        "    yx = yi * xi # 1-by-d matrix\n",
        "    yxw = float(numpy.dot(yx, w)) # scalar\n",
        "    \n",
        "    # calculate objective function Q_i\n",
        "    loss = numpy.log(1 + numpy.exp(-yxw)) # scalar\n",
        "    reg = lam / 2 * numpy.sum(w * w) # scalar\n",
        "    obj = loss + reg\n",
        "    \n",
        "    # calculate stochastic gradient\n",
        "    g_loss = -yx.T / (1 + numpy.exp(yxw)) # d-by-1 matrix\n",
        "    g = g_loss + lam * w # d-by-1 matrix\n",
        "    \n",
        "    return obj, g"
      ],
      "execution_count": null,
      "outputs": []
    },
    {
      "cell_type": "code",
      "metadata": {
        "id": "_cTvnww4FVpn"
      },
      "source": [
        "# SGD for solving logistic regression\n",
        "# Inputs:\n",
        "#     x: n-by-d matrix\n",
        "#     y: n-by-1 matrix\n",
        "#     lam: scalar, the regularization parameter\n",
        "#     stepsize: scalar\n",
        "#     max_epoch: integer, the maximal epochs\n",
        "#     w: d-by-1 matrix, initialization of w\n",
        "# Return:\n",
        "#     w: the solution\n",
        "#     objvals: record of each iteration's objective value\n",
        "def sgd(x, y, lam, stepsize, max_epoch=100, w=None):\n",
        "    n, d = x.shape\n",
        "    objvals = numpy.zeros(max_epoch) # store the objective values\n",
        "    if w is None:\n",
        "        w = numpy.zeros((d, 1)) # zero initialization\n",
        "    \n",
        "    for t in range(max_epoch):\n",
        "        # randomly shuffle the samples\n",
        "        rand_indices = numpy.random.permutation(n)\n",
        "        x_rand = x[rand_indices, :]\n",
        "        y_rand = y[rand_indices, :]\n",
        "        \n",
        "        objval = 0 # accumulate the objective values\n",
        "        for i in range(n):\n",
        "            xi = x_rand[i, :] # 1-by-d matrix\n",
        "            yi = float(y_rand[i, :]) # scalar\n",
        "            obj, g = stochastic_objective_gradient(w, xi, yi, lam)\n",
        "            objval += obj\n",
        "            w -= stepsize * g\n",
        "        \n",
        "        stepsize *= 0.9 # decrease step size\n",
        "        objval /= n\n",
        "        objvals[t] = objval\n",
        "        print('Objective value at epoch t=' + str(t) + ' is ' + str(objval))\n",
        "    \n",
        "    return w, objvals"
      ],
      "execution_count": null,
      "outputs": []
    },
    {
      "cell_type": "markdown",
      "metadata": {
        "id": "sPWNhXCdFVpo"
      },
      "source": [
        "Run SGD."
      ]
    },
    {
      "cell_type": "code",
      "metadata": {
        "id": "-ROE5s05FVpo",
        "outputId": "92c0c9d3-413d-4cc4-e9f6-62ff4fcb62f0"
      },
      "source": [
        "lam = 1E-6\n",
        "stepsize = 0.1\n",
        "w, objvals_sgd = sgd(x_train, y_train, lam, stepsize)"
      ],
      "execution_count": null,
      "outputs": [
        {
          "output_type": "stream",
          "text": [
            "Objective value at epoch t=0 is 0.5319367137281545\n",
            "Objective value at epoch t=1 is 0.517573724797173\n",
            "Objective value at epoch t=2 is 0.5241644619251502\n",
            "Objective value at epoch t=3 is 0.5054346725251514\n",
            "Objective value at epoch t=4 is 0.5110384255390952\n",
            "Objective value at epoch t=5 is 0.5121521000850876\n",
            "Objective value at epoch t=6 is 0.5030422102347882\n",
            "Objective value at epoch t=7 is 0.5051639924444222\n",
            "Objective value at epoch t=8 is 0.4961492454985625\n",
            "Objective value at epoch t=9 is 0.4935155220642877\n",
            "Objective value at epoch t=10 is 0.4972225937566833\n",
            "Objective value at epoch t=11 is 0.48993462125518344\n",
            "Objective value at epoch t=12 is 0.4915592340847158\n",
            "Objective value at epoch t=13 is 0.49098432209440857\n",
            "Objective value at epoch t=14 is 0.4896309081069054\n",
            "Objective value at epoch t=15 is 0.4875100247036608\n",
            "Objective value at epoch t=16 is 0.48604837924220295\n",
            "Objective value at epoch t=17 is 0.4837210324171227\n",
            "Objective value at epoch t=18 is 0.48361314040288084\n",
            "Objective value at epoch t=19 is 0.48345633072071637\n",
            "Objective value at epoch t=20 is 0.48052189842264764\n",
            "Objective value at epoch t=21 is 0.481869902867243\n",
            "Objective value at epoch t=22 is 0.4805816820240277\n",
            "Objective value at epoch t=23 is 0.4807047802314659\n",
            "Objective value at epoch t=24 is 0.4799171294378864\n",
            "Objective value at epoch t=25 is 0.4790984444061099\n",
            "Objective value at epoch t=26 is 0.47835938756789853\n",
            "Objective value at epoch t=27 is 0.4783609185868233\n",
            "Objective value at epoch t=28 is 0.4782801280132505\n",
            "Objective value at epoch t=29 is 0.47759318986206567\n",
            "Objective value at epoch t=30 is 0.47740315381837845\n",
            "Objective value at epoch t=31 is 0.47708901621941174\n",
            "Objective value at epoch t=32 is 0.47675425329821614\n",
            "Objective value at epoch t=33 is 0.4765854317832742\n",
            "Objective value at epoch t=34 is 0.4763428601275089\n",
            "Objective value at epoch t=35 is 0.47607275700882556\n",
            "Objective value at epoch t=36 is 0.47590546533840083\n",
            "Objective value at epoch t=37 is 0.4756941254741001\n",
            "Objective value at epoch t=38 is 0.47558204702369117\n",
            "Objective value at epoch t=39 is 0.47547257454248665\n",
            "Objective value at epoch t=40 is 0.4753589032312745\n",
            "Objective value at epoch t=41 is 0.4752275604140924\n",
            "Objective value at epoch t=42 is 0.47514213012186496\n",
            "Objective value at epoch t=43 is 0.4750585395821584\n",
            "Objective value at epoch t=44 is 0.47496979505550174\n",
            "Objective value at epoch t=45 is 0.4748981372723022\n",
            "Objective value at epoch t=46 is 0.47482976566523405\n",
            "Objective value at epoch t=47 is 0.4747675857014465\n",
            "Objective value at epoch t=48 is 0.47471650881867794\n",
            "Objective value at epoch t=49 is 0.47466425885292673\n",
            "Objective value at epoch t=50 is 0.474624316041708\n",
            "Objective value at epoch t=51 is 0.4745844241748537\n",
            "Objective value at epoch t=52 is 0.4745466542564058\n",
            "Objective value at epoch t=53 is 0.47451678312481504\n",
            "Objective value at epoch t=54 is 0.47448809790375035\n",
            "Objective value at epoch t=55 is 0.47446173879277664\n",
            "Objective value at epoch t=56 is 0.47443781954187597\n",
            "Objective value at epoch t=57 is 0.47441739084421786\n",
            "Objective value at epoch t=58 is 0.4743982171293485\n",
            "Objective value at epoch t=59 is 0.47438151250322597\n",
            "Objective value at epoch t=60 is 0.47436635368012076\n",
            "Objective value at epoch t=61 is 0.47435226879118353\n",
            "Objective value at epoch t=62 is 0.47433955144558143\n",
            "Objective value at epoch t=63 is 0.4743284437134704\n",
            "Objective value at epoch t=64 is 0.4743183394161334\n",
            "Objective value at epoch t=65 is 0.47430926143097335\n",
            "Objective value at epoch t=66 is 0.4743010192665575\n",
            "Objective value at epoch t=67 is 0.4742936566303578\n",
            "Objective value at epoch t=68 is 0.47428695047592984\n",
            "Objective value at epoch t=69 is 0.4742809238316932\n",
            "Objective value at epoch t=70 is 0.47427557106375406\n",
            "Objective value at epoch t=71 is 0.4742707390201761\n",
            "Objective value at epoch t=72 is 0.47426639681897614\n",
            "Objective value at epoch t=73 is 0.4742624614218318\n",
            "Objective value at epoch t=74 is 0.4742589228988766\n",
            "Objective value at epoch t=75 is 0.4742557285667909\n",
            "Objective value at epoch t=76 is 0.4742528552758314\n",
            "Objective value at epoch t=77 is 0.4742502854157406\n",
            "Objective value at epoch t=78 is 0.4742479661932098\n",
            "Objective value at epoch t=79 is 0.47424587183217126\n",
            "Objective value at epoch t=80 is 0.4742439963417846\n",
            "Objective value at epoch t=81 is 0.4742423008603097\n",
            "Objective value at epoch t=82 is 0.47424076790139447\n",
            "Objective value at epoch t=83 is 0.47423940683130245\n",
            "Objective value at epoch t=84 is 0.4742381711051312\n",
            "Objective value at epoch t=85 is 0.4742370586333857\n",
            "Objective value at epoch t=86 is 0.4742360594191556\n",
            "Objective value at epoch t=87 is 0.47423515857275145\n",
            "Objective value at epoch t=88 is 0.47423434755321753\n",
            "Objective value at epoch t=89 is 0.4742336179621714\n",
            "Objective value at epoch t=90 is 0.4742329629521297\n",
            "Objective value at epoch t=91 is 0.47423237135399415\n",
            "Objective value at epoch t=92 is 0.47423183999109353\n",
            "Objective value at epoch t=93 is 0.4742313615571242\n",
            "Objective value at epoch t=94 is 0.4742309307351292\n",
            "Objective value at epoch t=95 is 0.47423054295334055\n",
            "Objective value at epoch t=96 is 0.4742301941200588\n",
            "Objective value at epoch t=97 is 0.4742298802069745\n",
            "Objective value at epoch t=98 is 0.4742295974875736\n",
            "Objective value at epoch t=99 is 0.4742293432067465\n"
          ],
          "name": "stdout"
        }
      ]
    },
    {
      "cell_type": "markdown",
      "metadata": {
        "id": "N-Nl-BtqFVpp"
      },
      "source": [
        "# 4. Compare GD with SGD\n",
        "\n",
        "Plot objective function values against epochs."
      ]
    },
    {
      "cell_type": "code",
      "metadata": {
        "id": "dJvyQ4l-FVpp",
        "outputId": "747e2c04-989b-4f77-f9af-2bd71e297b6a"
      },
      "source": [
        "import matplotlib.pyplot as plt\n",
        "%matplotlib inline\n",
        "\n",
        "fig = plt.figure(figsize=(6, 4))\n",
        "\n",
        "epochs_gd = range(len(objvals_gd))\n",
        "epochs_sgd = range(len(objvals_sgd))\n",
        "\n",
        "line0, = plt.plot(epochs_gd, objvals_gd, '--b', LineWidth=4)\n",
        "line1, = plt.plot(epochs_sgd, objvals_sgd, '-r', LineWidth=2)\n",
        "plt.xlabel('Epochs', FontSize=20)\n",
        "plt.ylabel('Objective Value', FontSize=20)\n",
        "plt.xticks(FontSize=16)\n",
        "plt.yticks(FontSize=16)\n",
        "plt.legend([line0, line1], ['GD', 'SGD'], fontsize=20)\n",
        "plt.tight_layout()\n",
        "plt.show()\n",
        "fig.savefig('compare_gd_sgd.pdf', format='pdf', dpi=1200)"
      ],
      "execution_count": null,
      "outputs": [
        {
          "output_type": "stream",
          "text": [
            "<ipython-input-150-9b8d8f4cdfb5>:9: MatplotlibDeprecationWarning: Case-insensitive properties were deprecated in 3.3 and support will be removed two minor releases later\n",
            "  line0, = plt.plot(epochs_gd, objvals_gd, '--b', LineWidth=4)\n",
            "<ipython-input-150-9b8d8f4cdfb5>:10: MatplotlibDeprecationWarning: Case-insensitive properties were deprecated in 3.3 and support will be removed two minor releases later\n",
            "  line1, = plt.plot(epochs_sgd, objvals_sgd, '-r', LineWidth=2)\n",
            "<ipython-input-150-9b8d8f4cdfb5>:11: MatplotlibDeprecationWarning: Case-insensitive properties were deprecated in 3.3 and support will be removed two minor releases later\n",
            "  plt.xlabel('Epochs', FontSize=20)\n",
            "<ipython-input-150-9b8d8f4cdfb5>:12: MatplotlibDeprecationWarning: Case-insensitive properties were deprecated in 3.3 and support will be removed two minor releases later\n",
            "  plt.ylabel('Objective Value', FontSize=20)\n",
            "<ipython-input-150-9b8d8f4cdfb5>:13: MatplotlibDeprecationWarning: Case-insensitive properties were deprecated in 3.3 and support will be removed two minor releases later\n",
            "  plt.xticks(FontSize=16)\n",
            "<ipython-input-150-9b8d8f4cdfb5>:14: MatplotlibDeprecationWarning: Case-insensitive properties were deprecated in 3.3 and support will be removed two minor releases later\n",
            "  plt.yticks(FontSize=16)\n"
          ],
          "name": "stderr"
        },
        {
          "output_type": "display_data",
          "data": {
            "image/png": "[encoded data removed]",
            "text/plain": [
              "<Figure size 432x288 with 1 Axes>"
            ]
          },
          "metadata": {
            "tags": [],
            "needs_background": "light"
          }
        }
      ]
    },
    {
      "cell_type": "markdown",
      "metadata": {
        "id": "EzIqgmsFFVpq"
      },
      "source": [
        "# 5. Prediction"
      ]
    },
    {
      "cell_type": "code",
      "metadata": {
        "id": "f573YqZLFVpq"
      },
      "source": [
        "# Predict class label\n",
        "# Inputs:\n",
        "#     w: d-by-1 matrix\n",
        "#     X: m-by-d matrix\n",
        "# Return:\n",
        "#     f: m-by-1 matrix, the predictions\n",
        "def predict(w, X):\n",
        "    xw = numpy.dot(X, w)\n",
        "    f = numpy.sign(xw)\n",
        "    return f"
      ],
      "execution_count": null,
      "outputs": []
    },
    {
      "cell_type": "code",
      "metadata": {
        "id": "w2__WY8XFVpq",
        "outputId": "7fb7f27b-bc0b-4a3c-a4c9-f6dee09f3443"
      },
      "source": [
        "# evaluate training error\n",
        "f_train = predict(w, x_train)\n",
        "diff = numpy.abs(f_train - y_train) / 2\n",
        "error_train = numpy.mean(diff)\n",
        "print('Training classification error is ' + str(error_train))"
      ],
      "execution_count": null,
      "outputs": [
        {
          "output_type": "stream",
          "text": [
            "Training classification error is 0.225\n"
          ],
          "name": "stdout"
        }
      ]
    },
    {
      "cell_type": "code",
      "metadata": {
        "id": "_QtzkpdiFVpq",
        "outputId": "2e3a61e1-aef3-45cc-b583-a56eb8953515"
      },
      "source": [
        "# evaluate test error\n",
        "f_test = predict(w, x_test)\n",
        "diff = numpy.abs(f_test - y_test) / 2\n",
        "error_test = numpy.mean(diff)\n",
        "print('Test classification error is ' + str(error_test))"
      ],
      "execution_count": null,
      "outputs": [
        {
          "output_type": "stream",
          "text": [
            "Test classification error is 0.1953125\n"
          ],
          "name": "stdout"
        }
      ]
    },
    {
      "cell_type": "markdown",
      "metadata": {
        "id": "SDDY_yfzFVpr"
      },
      "source": [
        "# 6. Mini-batch SGD (fill the code)\n",
        "\n"
      ]
    },
    {
      "cell_type": "markdown",
      "metadata": {
        "id": "oFS87b5YFVpr"
      },
      "source": [
        "## 6.1. Compute the objective $Q_I$ and its gradient using a batch of samples\n",
        "\n",
        "Define $Q_I (w) = \\frac{1}{b} \\sum_{i \\in I} \\log \\Big( 1 + \\exp \\big( - y_i x_i^T w \\big) \\Big) + \\frac{\\lambda}{2} \\| w \\|_2^2 $, where $I$ is a set containing $b$ indices randomly drawn from $\\{ 1, \\cdots , n \\}$ without replacement.\n",
        "\n",
        "The stochastic gradient at $w$ is $g_I = \\frac{\\partial Q_I }{ \\partial w} = \\frac{1}{b} \\sum_{i \\in I} \\frac{- y_i x_i }{1 + \\exp ( y_i x_i^T w)} + \\lambda w$."
      ]
    },
    {
      "cell_type": "code",
      "metadata": {
        "id": "PTRG2coIVz2Q"
      },
      "source": [
        "def mb_stochastic_objective_gradient(w,xi,yi,lam,b):\n",
        "    # Fill the function \n",
        "    # Follow the implementation of stochastic_objective\n",
        "    # Use matrix-vector multiplication; do not use FOR LOOP of vector-vector multiplication\n",
        "    n=xi.shape[0]\n",
        "    \n",
        "    \n",
        "    yx=yi*xi # 1-by-d matrix\n",
        "    yxw=float(numpy.dot(yx,w)) #scalar\n",
        "    \n",
        "    # calculate objective function Q_I\n",
        "    loss = numpy.log(1+numpy.exp(-yxw)) # scalar\n",
        "    reg = lam/2*numpy.sum(w*w) # scalar\n",
        "    loss = numpy.mean(loss) #b-by-1 matrix\n",
        "    obj = loss+reg\n",
        "    \n",
        "    #calculate stochastic gradient \n",
        "    g_loss = numpy.mean(-yx.T/(1+numpy.exp(yxw))) # b-by-1 matrix\n",
        "    g = g_loss+lam*w\n",
        "    return obj,g"
      ],
      "execution_count": null,
      "outputs": []
    },
    {
      "cell_type": "code",
      "metadata": {
        "id": "KkuVWZS3Vz2S"
      },
      "source": [
        "# Mini-Batch SGD for solving logistic regression\n",
        "# Inputs:\n",
        "#     x: b-by-d matrix\n",
        "#     y: b-by-1 matrix\n",
        "#     lam: scalar, the regularization parameter\n",
        "#     b: integer, the batch size\n",
        "#     stepsize: scalar\n",
        "#     max_epoch: integer, the maximal epochs\n",
        "#     w: d-by-1 matrix, initialization of w\n",
        "# Return:\n",
        "#     w: the solution\n",
        "#     objvals: record of each iteration's objective value\n",
        "def mb_sgd(x, y, lam, b, stepsize, max_epoch=100, w=None):\n",
        "    # Fill the function\n",
        "    # Follow the implementation of sgd\n",
        "    # Record one objective value per epoch (not per iteration!)\n",
        "    n=x.shape[0]\n",
        "    b=n/b\n",
        "    objvals=numpy.zeros(max_epoch) #store the objective values\n",
        "    if w is None:\n",
        "        w=numpy.zeros((d,1)) # zero initialization\n",
        "    \n",
        "    for t in range(max_epoch):\n",
        "        # randomly shuffle the samples\n",
        "        rand_indices=numpy.random.permutation(n)\n",
        "        x_rand=x[rand_indices,:]\n",
        "        y_rand=y[rand_indices,:]\n",
        "        \n",
        "        objval=0 # accumulate the objective values\n",
        "        for i in range(n):\n",
        "            xi=x_rand[i,:]\n",
        "            yi=float(y_rand[i,:]) #scalar\n",
        "            obj,g=mb_stochastic_objective_gradient(w,xi,yi,lam,b)\n",
        "            objval +=obj\n",
        "            w -=stepsize*g\n",
        "        \n",
        "        stepsize *=0.9 # decrease step size\n",
        "        objval /= n\n",
        "        objvals[t] = objval\n",
        "        print(\"Objective value at epoch t=\" + str(t) + 'is ' + str(objval))\n",
        "        \n",
        "    \n",
        "    return w, objvals"
      ],
      "execution_count": null,
      "outputs": []
    },
    {
      "cell_type": "markdown",
      "metadata": {
        "id": "-SuUItVhFVps"
      },
      "source": [
        "## 6.2. Implement mini-batch SGD\n",
        "\n",
        "Hints:\n",
        "1. In every epoch, randomly permute the $n$ samples (just like SGD).\n",
        "2. Each epoch has $\\frac{n}{b}$ iterations. In every iteration, use $b$ samples, and compute the gradient and objective using the ``mb_stochastic_objective_gradient`` function. In the next iteration, use the next $b$ samples, and so on.\n"
      ]
    },
    {
      "cell_type": "code",
      "metadata": {
        "id": "P-qnIRZfVz2U"
      },
      "source": [
        "# Mini-Batch SGD for solving logistic regression\n",
        "# Inputs:\n",
        "#     x: b-by-d matrix\n",
        "#     y: b-by-1 matrix\n",
        "#     lam: scalar, the regularization parameter\n",
        "#     b: integer, the batch size\n",
        "#     stepsize: scalar\n",
        "#     max_epoch: integer, the maximal epochs\n",
        "#     w: d-by-1 matrix, initialization of w\n",
        "# Return:\n",
        "#     w: the solution\n",
        "#     objvals: record of each iteration's objective value\n",
        "def mb_sgd(x, y, lam, b, stepsize, max_epoch=100, w=None):\n",
        "    # Fill the function\n",
        "    # Follow the implementation of sgd\n",
        "    # Record one objective value per epoch (not per iteration!)\n",
        "    n=x.shape[0]\n",
        "    b=n/b\n",
        "    objvals=numpy.zeros(max_epoch) #store the objective values\n",
        "    if w is None:\n",
        "        w=numpy.zeros((d,1)) # zero initialization\n",
        "    \n",
        "    for t in range(max_epoch):\n",
        "        # randomly shuffle the samples\n",
        "        rand_indices=numpy.random.permutation(n)\n",
        "        x_rand=x[rand_indices,:]\n",
        "        y_rand=y[rand_indices,:]\n",
        "        \n",
        "        objval=0 # accumulate the objective values\n",
        "        for i in range(n):\n",
        "            xi=x_rand[i,:]\n",
        "            yi=float(y_rand[i,:]) #scalar\n",
        "            obj,g=mb_stochastic_objective_gradient(w,xi,yi,lam,b)\n",
        "            objval +=obj\n",
        "            w -=stepsize*g\n",
        "        \n",
        "        stepsize *=0.9 # decrease step size\n",
        "        objval /= n\n",
        "        objvals[t] = objval\n",
        "        print(\"Objective value at epoch t= \" + str(t) + ' is ' + str(objval))\n",
        "        \n",
        "    \n",
        "    return w, objvals"
      ],
      "execution_count": null,
      "outputs": []
    },
    {
      "cell_type": "code",
      "metadata": {
        "id": "gjwce3mPFVps",
        "outputId": "68a38528-75c3-4368-f554-cf234fe05186"
      },
      "source": [
        "import matplotlib.pyplot as plt\n",
        "%matplotlib inline\n",
        "\n",
        "fig = plt.figure(figsize=(6, 4))\n",
        "\n",
        "epochs_gd = range(len(objvals_gd))\n",
        "epochs_sgd = range(len(objvals_sgd))\n",
        "\n",
        "line0, = plt.plot(epochs_gd, objvals_gd, '--b', LineWidth=4)\n",
        "line1, = plt.plot(epochs_sgd, objvals_sgd, '-r', LineWidth=2)\n",
        "plt.xlabel('Epochs', FontSize=20)\n",
        "plt.ylabel('Objective Value', FontSize=20)\n",
        "plt.xticks(FontSize=16)\n",
        "plt.yticks(FontSize=16)\n",
        "plt.legend([line0, line1], ['GD', 'SGD'], fontsize=20)\n",
        "plt.tight_layout()\n",
        "plt.show()\n",
        "fig.savefig('compare_gd_sgd.pdf', format='pdf', dpi=1200)"
      ],
      "execution_count": null,
      "outputs": [
        {
          "output_type": "stream",
          "text": [
            "<ipython-input-157-9b8d8f4cdfb5>:9: MatplotlibDeprecationWarning: Case-insensitive properties were deprecated in 3.3 and support will be removed two minor releases later\n",
            "  line0, = plt.plot(epochs_gd, objvals_gd, '--b', LineWidth=4)\n",
            "<ipython-input-157-9b8d8f4cdfb5>:10: MatplotlibDeprecationWarning: Case-insensitive properties were deprecated in 3.3 and support will be removed two minor releases later\n",
            "  line1, = plt.plot(epochs_sgd, objvals_sgd, '-r', LineWidth=2)\n",
            "<ipython-input-157-9b8d8f4cdfb5>:11: MatplotlibDeprecationWarning: Case-insensitive properties were deprecated in 3.3 and support will be removed two minor releases later\n",
            "  plt.xlabel('Epochs', FontSize=20)\n",
            "<ipython-input-157-9b8d8f4cdfb5>:12: MatplotlibDeprecationWarning: Case-insensitive properties were deprecated in 3.3 and support will be removed two minor releases later\n",
            "  plt.ylabel('Objective Value', FontSize=20)\n",
            "<ipython-input-157-9b8d8f4cdfb5>:13: MatplotlibDeprecationWarning: Case-insensitive properties were deprecated in 3.3 and support will be removed two minor releases later\n",
            "  plt.xticks(FontSize=16)\n",
            "<ipython-input-157-9b8d8f4cdfb5>:14: MatplotlibDeprecationWarning: Case-insensitive properties were deprecated in 3.3 and support will be removed two minor releases later\n",
            "  plt.yticks(FontSize=16)\n"
          ],
          "name": "stderr"
        },
        {
          "output_type": "display_data",
          "data": {
            "image/png": "[encoded data removed]",
            "text/plain": [
              "<Figure size 432x288 with 1 Axes>"
            ]
          },
          "metadata": {
            "tags": [],
            "needs_background": "light"
          }
        }
      ]
    },
    {
      "cell_type": "markdown",
      "metadata": {
        "id": "h6VF0fqMFVps"
      },
      "source": [
        "## 6.3. Run MB-SGD"
      ]
    },
    {
      "cell_type": "code",
      "metadata": {
        "id": "ncP0NWNrFVpt",
        "outputId": "fb45ec23-c2ab-45e7-f0dd-9bc564c84eaf"
      },
      "source": [
        "# MB-SGD with batch size b=8\n",
        "lam = 1E-6 # do not change\n",
        "b = 8 # do not change\n",
        "stepsize = 0.1 # you must tune this parameter\n",
        "\n",
        "w, objvals_mbsgd8 = mb_sgd(x_train, y_train, lam, b, stepsize)"
      ],
      "execution_count": null,
      "outputs": [
        {
          "output_type": "stream",
          "text": [
            "Objective value at epoch t= 0 is 0.6637869607341179\n",
            "Objective value at epoch t= 1 is 0.6588502286581398\n",
            "Objective value at epoch t= 2 is 0.6556821407518034\n",
            "Objective value at epoch t= 3 is 0.660515437657488\n",
            "Objective value at epoch t= 4 is 0.6533679742530804\n",
            "Objective value at epoch t= 5 is 0.6560405881818256\n",
            "Objective value at epoch t= 6 is 0.6526968245453275\n",
            "Objective value at epoch t= 7 is 0.6552489218673309\n",
            "Objective value at epoch t= 8 is 0.6518296060789126\n",
            "Objective value at epoch t= 9 is 0.6525929787913036\n",
            "Objective value at epoch t= 10 is 0.6552690839169213\n",
            "Objective value at epoch t= 11 is 0.6535265319581062\n",
            "Objective value at epoch t= 12 is 0.6539917113119341\n",
            "Objective value at epoch t= 13 is 0.6511122958699317\n",
            "Objective value at epoch t= 14 is 0.6528556148867607\n",
            "Objective value at epoch t= 15 is 0.6513781086454583\n",
            "Objective value at epoch t= 16 is 0.6517301147103943\n",
            "Objective value at epoch t= 17 is 0.6509071629513081\n",
            "Objective value at epoch t= 18 is 0.6522041974915995\n",
            "Objective value at epoch t= 19 is 0.6518368293660131\n",
            "Objective value at epoch t= 20 is 0.6494321152499236\n",
            "Objective value at epoch t= 21 is 0.6518434269239106\n",
            "Objective value at epoch t= 22 is 0.6510766297334317\n",
            "Objective value at epoch t= 23 is 0.6511151077102765\n",
            "Objective value at epoch t= 24 is 0.6499275967713046\n",
            "Objective value at epoch t= 25 is 0.6510910404446554\n",
            "Objective value at epoch t= 26 is 0.650137162375541\n",
            "Objective value at epoch t= 27 is 0.650526896808312\n",
            "Objective value at epoch t= 28 is 0.6505375182087194\n",
            "Objective value at epoch t= 29 is 0.6503148507811881\n",
            "Objective value at epoch t= 30 is 0.6502051416978765\n",
            "Objective value at epoch t= 31 is 0.6501863381371116\n",
            "Objective value at epoch t= 32 is 0.6501832707885433\n",
            "Objective value at epoch t= 33 is 0.6501121170392845\n",
            "Objective value at epoch t= 34 is 0.6500312621615847\n",
            "Objective value at epoch t= 35 is 0.6499803670695942\n",
            "Objective value at epoch t= 36 is 0.6498966188722003\n",
            "Objective value at epoch t= 37 is 0.649871981359692\n",
            "Objective value at epoch t= 38 is 0.6498695547836288\n",
            "Objective value at epoch t= 39 is 0.6497993876290766\n",
            "Objective value at epoch t= 40 is 0.6498044398782639\n",
            "Objective value at epoch t= 41 is 0.6497615543231268\n",
            "Objective value at epoch t= 42 is 0.6497482301838058\n",
            "Objective value at epoch t= 43 is 0.6497293483461043\n",
            "Objective value at epoch t= 44 is 0.6497104380232571\n",
            "Objective value at epoch t= 45 is 0.6496906819166598\n",
            "Objective value at epoch t= 46 is 0.6496726642518926\n",
            "Objective value at epoch t= 47 is 0.6496592648320989\n",
            "Objective value at epoch t= 48 is 0.6496469215697591\n",
            "Objective value at epoch t= 49 is 0.6496354633852787\n",
            "Objective value at epoch t= 50 is 0.6496242869208289\n",
            "Objective value at epoch t= 51 is 0.6496150041257642\n",
            "Objective value at epoch t= 52 is 0.6496067543068339\n",
            "Objective value at epoch t= 53 is 0.6495981977173124\n",
            "Objective value at epoch t= 54 is 0.6495908930186727\n",
            "Objective value at epoch t= 55 is 0.6495849794016504\n",
            "Objective value at epoch t= 56 is 0.6495793635939946\n",
            "Objective value at epoch t= 57 is 0.6495732430846262\n",
            "Objective value at epoch t= 58 is 0.6495692357145759\n",
            "Objective value at epoch t= 59 is 0.6495649778962733\n",
            "Objective value at epoch t= 60 is 0.649560932065284\n",
            "Objective value at epoch t= 61 is 0.6495578580410293\n",
            "Objective value at epoch t= 62 is 0.6495548111841016\n",
            "Objective value at epoch t= 63 is 0.6495523122742826\n",
            "Objective value at epoch t= 64 is 0.6495499406329879\n",
            "Objective value at epoch t= 65 is 0.6495476734424409\n",
            "Objective value at epoch t= 66 is 0.6495456534332422\n",
            "Objective value at epoch t= 67 is 0.6495436638355648\n",
            "Objective value at epoch t= 68 is 0.6495421556767452\n",
            "Objective value at epoch t= 69 is 0.6495406667439223\n",
            "Objective value at epoch t= 70 is 0.6495393724717549\n",
            "Objective value at epoch t= 71 is 0.6495381618577452\n",
            "Objective value at epoch t= 72 is 0.649537106117198\n",
            "Objective value at epoch t= 73 is 0.6495361410383954\n",
            "Objective value at epoch t= 74 is 0.6495352716763897\n",
            "Objective value at epoch t= 75 is 0.6495344773312228\n",
            "Objective value at epoch t= 76 is 0.6495337791961415\n",
            "Objective value at epoch t= 77 is 0.6495331403600779\n",
            "Objective value at epoch t= 78 is 0.6495325715744312\n",
            "Objective value at epoch t= 79 is 0.6495320486306635\n",
            "Objective value at epoch t= 80 is 0.6495315915051555\n",
            "Objective value at epoch t= 81 is 0.6495311753746738\n",
            "Objective value at epoch t= 82 is 0.6495307997991581\n",
            "Objective value at epoch t= 83 is 0.6495304619652635\n",
            "Objective value at epoch t= 84 is 0.6495301580721285\n",
            "Objective value at epoch t= 85 is 0.6495298829843947\n",
            "Objective value at epoch t= 86 is 0.649529636716443\n",
            "Objective value at epoch t= 87 is 0.649529415974406\n",
            "Objective value at epoch t= 88 is 0.6495292159897679\n",
            "Objective value at epoch t= 89 is 0.6495290362120067\n",
            "Objective value at epoch t= 90 is 0.649528874637195\n",
            "Objective value at epoch t= 91 is 0.6495287287275696\n",
            "Objective value at epoch t= 92 is 0.6495285986146747\n",
            "Objective value at epoch t= 93 is 0.6495284806914915\n",
            "Objective value at epoch t= 94 is 0.6495283746276469\n",
            "Objective value at epoch t= 95 is 0.6495282791285828\n",
            "Objective value at epoch t= 96 is 0.6495281931873342\n",
            "Objective value at epoch t= 97 is 0.6495281159174702\n",
            "Objective value at epoch t= 98 is 0.6495280463029578\n",
            "Objective value at epoch t= 99 is 0.6495279836500107\n"
          ],
          "name": "stdout"
        }
      ]
    },
    {
      "cell_type": "code",
      "metadata": {
        "id": "evYQ-lnZFVpt",
        "outputId": "826d7609-105d-41fa-e779-4e48a00751eb"
      },
      "source": [
        "# MB-SGD with batch size b=64\n",
        "lam = 1E-6 # do not change\n",
        "b = 64 # do not change\n",
        "stepsize = 0.1 # you must tune this parameter\n",
        "\n",
        "w, objvals_mbsgd64 = mb_sgd(x_train, y_train, lam, b, stepsize)"
      ],
      "execution_count": null,
      "outputs": [
        {
          "output_type": "stream",
          "text": [
            "Objective value at epoch t= 0 is 0.6623459755689927\n",
            "Objective value at epoch t= 1 is 0.6551675134062823\n",
            "Objective value at epoch t= 2 is 0.6590583312823208\n",
            "Objective value at epoch t= 3 is 0.6592311844964607\n",
            "Objective value at epoch t= 4 is 0.6547043575358944\n",
            "Objective value at epoch t= 5 is 0.6592043066804983\n",
            "Objective value at epoch t= 6 is 0.6573642011246152\n",
            "Objective value at epoch t= 7 is 0.6571127767656552\n",
            "Objective value at epoch t= 8 is 0.6529334068127473\n",
            "Objective value at epoch t= 9 is 0.6537264215407416\n",
            "Objective value at epoch t= 10 is 0.6536086411762112\n",
            "Objective value at epoch t= 11 is 0.6523089526318477\n",
            "Objective value at epoch t= 12 is 0.6541502262777001\n",
            "Objective value at epoch t= 13 is 0.6526032699559973\n",
            "Objective value at epoch t= 14 is 0.6533078324936507\n",
            "Objective value at epoch t= 15 is 0.6523650084872927\n",
            "Objective value at epoch t= 16 is 0.6526355719035136\n",
            "Objective value at epoch t= 17 is 0.6523360353784257\n",
            "Objective value at epoch t= 18 is 0.6518534820004602\n",
            "Objective value at epoch t= 19 is 0.6510821834204881\n",
            "Objective value at epoch t= 20 is 0.6514061826450388\n",
            "Objective value at epoch t= 21 is 0.6513808892125916\n",
            "Objective value at epoch t= 22 is 0.6512513760869487\n",
            "Objective value at epoch t= 23 is 0.6490910567976911\n",
            "Objective value at epoch t= 24 is 0.6506683853473924\n",
            "Objective value at epoch t= 25 is 0.6507877377878171\n",
            "Objective value at epoch t= 26 is 0.6507179302473921\n",
            "Objective value at epoch t= 27 is 0.6503941506263378\n",
            "Objective value at epoch t= 28 is 0.650485803477548\n",
            "Objective value at epoch t= 29 is 0.6503333462601871\n",
            "Objective value at epoch t= 30 is 0.6502780328254374\n",
            "Objective value at epoch t= 31 is 0.6502448373817379\n",
            "Objective value at epoch t= 32 is 0.6501641966727169\n",
            "Objective value at epoch t= 33 is 0.6500914600495982\n",
            "Objective value at epoch t= 34 is 0.6498371912870358\n",
            "Objective value at epoch t= 35 is 0.6499968989576141\n",
            "Objective value at epoch t= 36 is 0.6499507901622835\n",
            "Objective value at epoch t= 37 is 0.6498995270835523\n",
            "Objective value at epoch t= 38 is 0.6498153696168434\n",
            "Objective value at epoch t= 39 is 0.64982337306078\n",
            "Objective value at epoch t= 40 is 0.6498007592475037\n",
            "Objective value at epoch t= 41 is 0.6497766141493879\n",
            "Objective value at epoch t= 42 is 0.6497387017442997\n",
            "Objective value at epoch t= 43 is 0.64970861754733\n",
            "Objective value at epoch t= 44 is 0.6497065219441509\n",
            "Objective value at epoch t= 45 is 0.6496911779223408\n",
            "Objective value at epoch t= 46 is 0.649671261641391\n",
            "Objective value at epoch t= 47 is 0.6496560405215175\n",
            "Objective value at epoch t= 48 is 0.6496287470472527\n",
            "Objective value at epoch t= 49 is 0.6496351582878358\n",
            "Objective value at epoch t= 50 is 0.6496267928555344\n",
            "Objective value at epoch t= 51 is 0.6496163265734883\n",
            "Objective value at epoch t= 52 is 0.6496077033716584\n",
            "Objective value at epoch t= 53 is 0.6495988588095432\n",
            "Objective value at epoch t= 54 is 0.6495920639375699\n",
            "Objective value at epoch t= 55 is 0.6495855081082471\n",
            "Objective value at epoch t= 56 is 0.6495799180015724\n",
            "Objective value at epoch t= 57 is 0.649574919738023\n",
            "Objective value at epoch t= 58 is 0.6495700375115847\n",
            "Objective value at epoch t= 59 is 0.649565656598275\n",
            "Objective value at epoch t= 60 is 0.6495619731291061\n",
            "Objective value at epoch t= 61 is 0.6495585757507307\n",
            "Objective value at epoch t= 62 is 0.6495554571157693\n",
            "Objective value at epoch t= 63 is 0.6495524898506484\n",
            "Objective value at epoch t= 64 is 0.6495501745762301\n",
            "Objective value at epoch t= 65 is 0.6495477954442499\n",
            "Objective value at epoch t= 66 is 0.6495458110196418\n",
            "Objective value at epoch t= 67 is 0.6495439564087624\n",
            "Objective value at epoch t= 68 is 0.6495422721965768\n",
            "Objective value at epoch t= 69 is 0.6495408933921045\n",
            "Objective value at epoch t= 70 is 0.6495395534859291\n",
            "Objective value at epoch t= 71 is 0.6495383666964214\n",
            "Objective value at epoch t= 72 is 0.6495372886855076\n",
            "Objective value at epoch t= 73 is 0.6495363154169113\n",
            "Objective value at epoch t= 74 is 0.6495354280178073\n",
            "Objective value at epoch t= 75 is 0.6495346466238001\n",
            "Objective value at epoch t= 76 is 0.6495339316692108\n",
            "Objective value at epoch t= 77 is 0.649533305552949\n",
            "Objective value at epoch t= 78 is 0.6495327324097822\n",
            "Objective value at epoch t= 79 is 0.6495322162050103\n",
            "Objective value at epoch t= 80 is 0.6495317509339149\n",
            "Objective value at epoch t= 81 is 0.6495313320587615\n",
            "Objective value at epoch t= 82 is 0.6495309570941669\n",
            "Objective value at epoch t= 83 is 0.6495306153995618\n",
            "Objective value at epoch t= 84 is 0.6495303122356724\n",
            "Objective value at epoch t= 85 is 0.6495300368105904\n",
            "Objective value at epoch t= 86 is 0.6495297909549248\n",
            "Objective value at epoch t= 87 is 0.64952956789717\n",
            "Objective value at epoch t= 88 is 0.6495293675684848\n",
            "Objective value at epoch t= 89 is 0.6495291880372752\n",
            "Objective value at epoch t= 90 is 0.6495290258375129\n",
            "Objective value at epoch t= 91 is 0.6495288799367087\n",
            "Objective value at epoch t= 92 is 0.649528748434266\n",
            "Objective value at epoch t= 93 is 0.6495286303081685\n",
            "Objective value at epoch t= 94 is 0.6495285237181461\n",
            "Objective value at epoch t= 95 is 0.6495284280694988\n",
            "Objective value at epoch t= 96 is 0.6495283416295792\n",
            "Objective value at epoch t= 97 is 0.6495282642626368\n",
            "Objective value at epoch t= 98 is 0.6495281944044053\n",
            "Objective value at epoch t= 99 is 0.6495281315219988\n"
          ],
          "name": "stdout"
        }
      ]
    },
    {
      "cell_type": "markdown",
      "metadata": {
        "id": "QlnZAtnTFVpt"
      },
      "source": [
        "# 7. Plot and compare GD, SGD, and MB-SGD"
      ]
    },
    {
      "cell_type": "markdown",
      "metadata": {
        "id": "yip51LHJFVpt"
      },
      "source": [
        "You are required to compare the following algorithms:\n",
        "\n",
        "- Gradient descent (GD)\n",
        "\n",
        "- SGD\n",
        "\n",
        "- MB-SGD with b=8\n",
        "\n",
        "- MB-SGD with b=64\n",
        "\n",
        "Follow the code in Section 4 to plot ```objective function value``` against ```epochs```. There should be four curves in the plot; each curve corresponds to one algorithm."
      ]
    },
    {
      "cell_type": "markdown",
      "metadata": {
        "id": "Id4qG8X8Vz2a"
      },
      "source": [
        "# Plot GD vs SGD"
      ]
    },
    {
      "cell_type": "code",
      "metadata": {
        "id": "w7NR6i44Vz2b",
        "outputId": "5d0dc8cf-1d48-491b-d8a3-b37e2c2a6e07"
      },
      "source": [
        "import matplotlib.pyplot as plt\n",
        "%matplotlib inline\n",
        "\n",
        "fig = plt.figure(figsize=(6, 4))\n",
        "\n",
        "epochs_gd = range(len(objvals_gd))\n",
        "epochs_sgd = range(len(objvals_sgd))\n",
        "\n",
        "line0, = plt.plot(epochs_gd, objvals_gd, '--b', LineWidth=4)\n",
        "line1, = plt.plot(epochs_sgd, objvals_sgd, '-r', LineWidth=2)\n",
        "plt.xlabel('Epochs', FontSize=20)\n",
        "plt.ylabel('Objective Value', FontSize=20)\n",
        "plt.xticks(FontSize=16)\n",
        "plt.yticks(FontSize=16)\n",
        "plt.legend([line0, line1], ['GD', 'SGD'], fontsize=20)\n",
        "plt.tight_layout()\n",
        "plt.show()\n",
        "fig.savefig('compare_gd_sgd.pdf', format='pdf', dpi=1200)"
      ],
      "execution_count": null,
      "outputs": [
        {
          "output_type": "stream",
          "text": [
            "<ipython-input-160-9b8d8f4cdfb5>:9: MatplotlibDeprecationWarning: Case-insensitive properties were deprecated in 3.3 and support will be removed two minor releases later\n",
            "  line0, = plt.plot(epochs_gd, objvals_gd, '--b', LineWidth=4)\n",
            "<ipython-input-160-9b8d8f4cdfb5>:10: MatplotlibDeprecationWarning: Case-insensitive properties were deprecated in 3.3 and support will be removed two minor releases later\n",
            "  line1, = plt.plot(epochs_sgd, objvals_sgd, '-r', LineWidth=2)\n",
            "<ipython-input-160-9b8d8f4cdfb5>:11: MatplotlibDeprecationWarning: Case-insensitive properties were deprecated in 3.3 and support will be removed two minor releases later\n",
            "  plt.xlabel('Epochs', FontSize=20)\n",
            "<ipython-input-160-9b8d8f4cdfb5>:12: MatplotlibDeprecationWarning: Case-insensitive properties were deprecated in 3.3 and support will be removed two minor releases later\n",
            "  plt.ylabel('Objective Value', FontSize=20)\n",
            "<ipython-input-160-9b8d8f4cdfb5>:13: MatplotlibDeprecationWarning: Case-insensitive properties were deprecated in 3.3 and support will be removed two minor releases later\n",
            "  plt.xticks(FontSize=16)\n",
            "<ipython-input-160-9b8d8f4cdfb5>:14: MatplotlibDeprecationWarning: Case-insensitive properties were deprecated in 3.3 and support will be removed two minor releases later\n",
            "  plt.yticks(FontSize=16)\n"
          ],
          "name": "stderr"
        },
        {
          "output_type": "display_data",
          "data": {
            "image/png": "[encoded data removed]",
            "text/plain": [
              "<Figure size 432x288 with 1 Axes>"
            ]
          },
          "metadata": {
            "tags": [],
            "needs_background": "light"
          }
        }
      ]
    },
    {
      "cell_type": "markdown",
      "metadata": {
        "id": "6vgFkeGlVz2c"
      },
      "source": [
        "# Plot GD vs MBSGD8"
      ]
    },
    {
      "cell_type": "code",
      "metadata": {
        "id": "mpiqMk_ZFVpu",
        "outputId": "68d111f6-7d46-4c92-e6a2-ad69b6d11b19"
      },
      "source": [
        "import matplotlib.pyplot as plt\n",
        "%matplotlib inline\n",
        "\n",
        "fig = plt.figure(figsize=(6, 4))\n",
        "\n",
        "epochs_gd = range(len(objvals_gd))\n",
        "epochs_mbsgd8 = range(len(objvals_mbsgd8))\n",
        "\n",
        "line0, = plt.plot(epochs_gd, objvals_gd, '--b', LineWidth=4)\n",
        "line1, = plt.plot(epochs_mbsgd8, objvals_mbsgd8, '-r', LineWidth=2)\n",
        "plt.xlabel('Epochs', FontSize=20)\n",
        "plt.ylabel('Objective Value', FontSize=20)\n",
        "plt.xticks(FontSize=16)\n",
        "plt.yticks(FontSize=16)\n",
        "plt.legend([line0, line1], ['GD', 'MBSGD8'], fontsize=20)\n",
        "plt.tight_layout()\n",
        "plt.show()\n",
        "fig.savefig('compare_gd_mbsgd8.pdf', format='pdf', dpi=1200)"
      ],
      "execution_count": null,
      "outputs": [
        {
          "output_type": "stream",
          "text": [
            "<ipython-input-161-6b9ff8b53a99>:9: MatplotlibDeprecationWarning: Case-insensitive properties were deprecated in 3.3 and support will be removed two minor releases later\n",
            "  line0, = plt.plot(epochs_gd, objvals_gd, '--b', LineWidth=4)\n",
            "<ipython-input-161-6b9ff8b53a99>:10: MatplotlibDeprecationWarning: Case-insensitive properties were deprecated in 3.3 and support will be removed two minor releases later\n",
            "  line1, = plt.plot(epochs_mbsgd8, objvals_mbsgd8, '-r', LineWidth=2)\n",
            "<ipython-input-161-6b9ff8b53a99>:11: MatplotlibDeprecationWarning: Case-insensitive properties were deprecated in 3.3 and support will be removed two minor releases later\n",
            "  plt.xlabel('Epochs', FontSize=20)\n",
            "<ipython-input-161-6b9ff8b53a99>:12: MatplotlibDeprecationWarning: Case-insensitive properties were deprecated in 3.3 and support will be removed two minor releases later\n",
            "  plt.ylabel('Objective Value', FontSize=20)\n",
            "<ipython-input-161-6b9ff8b53a99>:13: MatplotlibDeprecationWarning: Case-insensitive properties were deprecated in 3.3 and support will be removed two minor releases later\n",
            "  plt.xticks(FontSize=16)\n",
            "<ipython-input-161-6b9ff8b53a99>:14: MatplotlibDeprecationWarning: Case-insensitive properties were deprecated in 3.3 and support will be removed two minor releases later\n",
            "  plt.yticks(FontSize=16)\n"
          ],
          "name": "stderr"
        },
        {
          "output_type": "display_data",
          "data": {
            "image/png": "[encoded data removed]",
            "text/plain": [
              "<Figure size 432x288 with 1 Axes>"
            ]
          },
          "metadata": {
            "tags": [],
            "needs_background": "light"
          }
        }
      ]
    },
    {
      "cell_type": "markdown",
      "metadata": {
        "id": "93K_w_ErVz2e"
      },
      "source": [
        "# Plot GD vs MBSGD64"
      ]
    },
    {
      "cell_type": "code",
      "metadata": {
        "id": "JEJAD45tVz2f",
        "outputId": "10aaf348-e3a7-472f-ba36-63fee7d87497"
      },
      "source": [
        "import matplotlib.pyplot as plt\n",
        "%matplotlib inline\n",
        "\n",
        "fig = plt.figure(figsize=(6, 4))\n",
        "\n",
        "epochs_gd = range(len(objvals_gd))\n",
        "epochs_mbsgd64 = range(len(objvals_mbsgd64))\n",
        "\n",
        "line0, = plt.plot(epochs_gd, objvals_gd, '--b', LineWidth=4)\n",
        "line1, = plt.plot(epochs_mbsgd64, objvals_mbsgd64, '-r', LineWidth=2)\n",
        "plt.xlabel('Epochs', FontSize=20)\n",
        "plt.ylabel('Objective Value', FontSize=20)\n",
        "plt.xticks(FontSize=16)\n",
        "plt.yticks(FontSize=16)\n",
        "plt.legend([line0, line1], ['GD', 'MBSGD64'], fontsize=20)\n",
        "plt.tight_layout()\n",
        "plt.show()\n",
        "fig.savefig('compare_gd_mbsgd64.pdf', format='pdf', dpi=1200)"
      ],
      "execution_count": null,
      "outputs": [
        {
          "output_type": "stream",
          "text": [
            "<ipython-input-162-cf0765b11f34>:9: MatplotlibDeprecationWarning: Case-insensitive properties were deprecated in 3.3 and support will be removed two minor releases later\n",
            "  line0, = plt.plot(epochs_gd, objvals_gd, '--b', LineWidth=4)\n",
            "<ipython-input-162-cf0765b11f34>:10: MatplotlibDeprecationWarning: Case-insensitive properties were deprecated in 3.3 and support will be removed two minor releases later\n",
            "  line1, = plt.plot(epochs_mbsgd64, objvals_mbsgd64, '-r', LineWidth=2)\n",
            "<ipython-input-162-cf0765b11f34>:11: MatplotlibDeprecationWarning: Case-insensitive properties were deprecated in 3.3 and support will be removed two minor releases later\n",
            "  plt.xlabel('Epochs', FontSize=20)\n",
            "<ipython-input-162-cf0765b11f34>:12: MatplotlibDeprecationWarning: Case-insensitive properties were deprecated in 3.3 and support will be removed two minor releases later\n",
            "  plt.ylabel('Objective Value', FontSize=20)\n",
            "<ipython-input-162-cf0765b11f34>:13: MatplotlibDeprecationWarning: Case-insensitive properties were deprecated in 3.3 and support will be removed two minor releases later\n",
            "  plt.xticks(FontSize=16)\n",
            "<ipython-input-162-cf0765b11f34>:14: MatplotlibDeprecationWarning: Case-insensitive properties were deprecated in 3.3 and support will be removed two minor releases later\n",
            "  plt.yticks(FontSize=16)\n"
          ],
          "name": "stderr"
        },
        {
          "output_type": "display_data",
          "data": {
            "image/png": "[encoded data removed]",
            "text/plain": [
              "<Figure size 432x288 with 1 Axes>"
            ]
          },
          "metadata": {
            "tags": [],
            "needs_background": "light"
          }
        }
      ]
    },
    {
      "cell_type": "markdown",
      "metadata": {
        "id": "Cp4mDsUCVz2k"
      },
      "source": [
        "# Plot MBSGD8 vs MBSGD64"
      ]
    },
    {
      "cell_type": "code",
      "metadata": {
        "id": "VogHnlkkVz2l",
        "outputId": "72a1e2b6-af1c-4985-ea4d-e7c56e807c3f"
      },
      "source": [
        "import matplotlib.pyplot as plt\n",
        "%matplotlib inline\n",
        "\n",
        "fig = plt.figure(figsize=(6, 4))\n",
        "\n",
        "epochs_mbsgd8 = range(len(objvals_mbsgd8))\n",
        "epochs_mbsgd64 = range(len(objvals_mbsgd64))\n",
        "\n",
        "line0, = plt.plot(epochs_mbsgd8, objvals_mbsgd8, '--b', LineWidth=4)\n",
        "line1, = plt.plot(epochs_mbsgd64, objvals_mbsgd64, '-r', LineWidth=2)\n",
        "plt.xlabel('Epochs', FontSize=20)\n",
        "plt.ylabel('Objective Value', FontSize=20)\n",
        "plt.xticks(FontSize=16)\n",
        "plt.yticks(FontSize=16)\n",
        "plt.legend([line0, line1], ['MBSGD8', 'MBSGD64'], fontsize=20)\n",
        "plt.tight_layout()\n",
        "plt.show()\n",
        "fig.savefig('compare_mbsgd8_mbsgd64.pdf', format='pdf', dpi=1200)"
      ],
      "execution_count": null,
      "outputs": [
        {
          "output_type": "stream",
          "text": [
            "<ipython-input-163-f3c48e464596>:9: MatplotlibDeprecationWarning: Case-insensitive properties were deprecated in 3.3 and support will be removed two minor releases later\n",
            "  line0, = plt.plot(epochs_mbsgd8, objvals_mbsgd8, '--b', LineWidth=4)\n",
            "<ipython-input-163-f3c48e464596>:10: MatplotlibDeprecationWarning: Case-insensitive properties were deprecated in 3.3 and support will be removed two minor releases later\n",
            "  line1, = plt.plot(epochs_mbsgd64, objvals_mbsgd64, '-r', LineWidth=2)\n",
            "<ipython-input-163-f3c48e464596>:11: MatplotlibDeprecationWarning: Case-insensitive properties were deprecated in 3.3 and support will be removed two minor releases later\n",
            "  plt.xlabel('Epochs', FontSize=20)\n",
            "<ipython-input-163-f3c48e464596>:12: MatplotlibDeprecationWarning: Case-insensitive properties were deprecated in 3.3 and support will be removed two minor releases later\n",
            "  plt.ylabel('Objective Value', FontSize=20)\n",
            "<ipython-input-163-f3c48e464596>:13: MatplotlibDeprecationWarning: Case-insensitive properties were deprecated in 3.3 and support will be removed two minor releases later\n",
            "  plt.xticks(FontSize=16)\n",
            "<ipython-input-163-f3c48e464596>:14: MatplotlibDeprecationWarning: Case-insensitive properties were deprecated in 3.3 and support will be removed two minor releases later\n",
            "  plt.yticks(FontSize=16)\n"
          ],
          "name": "stderr"
        },
        {
          "output_type": "display_data",
          "data": {
            "image/png": "[encoded data removed]",
            "text/plain": [
              "<Figure size 432x288 with 1 Axes>"
            ]
          },
          "metadata": {
            "tags": [],
            "needs_background": "light"
          }
        }
      ]
    },
    {
      "cell_type": "markdown",
      "metadata": {
        "id": "3geXF8pwFVpu"
      },
      "source": [
        ""
      ]
    }
  ]
}